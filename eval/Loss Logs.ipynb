{
 "cells": [
  {
   "cell_type": "code",
   "execution_count": 165,
   "metadata": {},
   "outputs": [],
   "source": [
    "log_file = \"branched_resizer.txt\"\n",
    "# log_file = \"spatial_loss.txt\"\n",
    "import matplotlib.pyplot as plt\n",
    "import numpy as np"
   ]
  },
  {
   "cell_type": "code",
   "execution_count": 166,
   "metadata": {},
   "outputs": [
    {
     "name": "stdout",
     "output_type": "stream",
     "text": [
      "['val', '', 'Loss:', '0.0842', '\\n']\n",
      "['val', '', 'Loss:', '0.0599', '\\n']\n",
      "['val', '', 'Loss:', '0.0461', '\\n']\n",
      "['val', '', 'Loss:', '0.0565', '\\n']\n",
      "['val', '', 'Loss:', '0.0433', '\\n']\n",
      "['val', '', 'Loss:', '0.0422', '\\n']\n",
      "['val', '', 'Loss:', '0.0412', '\\n']\n",
      "['val', '', 'Loss:', '0.0462', '\\n']\n",
      "['val', '', 'Loss:', '0.0473', '\\n']\n",
      "['val', '', 'Loss:', '0.0432', '\\n']\n",
      "['val', '', 'Loss:', '0.0447', '\\n']\n",
      "['val', '', 'Loss:', '0.0468', '\\n']\n",
      "['val', '', 'Loss:', '0.0532', '\\n']\n",
      "['val', '', 'Loss:', '0.0456', '\\n']\n",
      "['val', '', 'Loss:', '0.0428', '\\n']\n",
      "['val', '', 'Loss:', '0.0429', '\\n']\n",
      "['val', '', 'Loss:', '0.0499', '\\n']\n",
      "OrderedDict([(0, 0.0631803418803419), (1, 0.04667179487179489), (2, 0.03976239316239316), (3, 0.034951282051282034), (4, 0.030347863247863243), (5, 0.025951282051282054), (6, 0.023352991452991453), (7, 0.022281196581196584), (8, 0.019686324786324785), (9, 0.017062393162393157), (10, 0.016200000000000003), (11, 0.015340170940170946), (12, 0.013896581196581199), (13, 0.013753846153846153), (14, 0.012335897435897436), (15, 0.01058461538461538), (16, 0.010017094017094018)])\n",
      "[(0, 0.0842), (1, 0.0599), (2, 0.0461), (3, 0.0565), (4, 0.0433), (5, 0.0422), (6, 0.0412), (7, 0.0462), (8, 0.0473), (9, 0.0432), (10, 0.0447), (11, 0.0468), (12, 0.0532), (13, 0.0456), (14, 0.0428), (15, 0.0429), (16, 0.0499)]\n"
     ]
    }
   ],
   "source": [
    "from collections import OrderedDict\n",
    "epoch_count = 0\n",
    "training_losses = list()\n",
    "validation_losses = list()\n",
    "epoch_loss_map = OrderedDict()\n",
    "with open(log_file) as f:\n",
    "    for l in f:\n",
    "        keys = l.split(' ')\n",
    "        if keys[0] == 'train':\n",
    "            training_losses.append(float(keys[-1]))\n",
    "        else:\n",
    "            epoch_loss_map[epoch_count] = sum(training_losses)/len(training_losses)\n",
    "            epoch_count+=1\n",
    "            training_losses = list()\n",
    "            if keys[0] == 'val':\n",
    "                print(keys)\n",
    "                validation_losses.append(float(keys[3]))\n",
    "print(epoch_loss_map)\n",
    "print(list(enumerate(validation_losses)))"
   ]
  },
  {
   "cell_type": "code",
   "execution_count": 167,
   "metadata": {},
   "outputs": [
    {
     "data": {
      "text/plain": [
       "Text(0.5, 1.0, 'Variation of Training Loss with Epochs(Resizer)')"
      ]
     },
     "execution_count": 167,
     "metadata": {},
     "output_type": "execute_result"
    },
    {
     "data": {
      "image/png": "[encoded data removed]",
      "text/plain": [
       "<Figure size 432x288 with 1 Axes>"
      ]
     },
     "metadata": {
      "needs_background": "light"
     },
     "output_type": "display_data"
    }
   ],
   "source": [
    "\n",
    "plt.plot(epoch_loss_map.keys(), epoch_loss_map.values(), color='green')\n",
    "plt.plot(epoch_loss_map.keys(), validation_losses, color='blue')\n",
    "plt.ylabel(\"Training Loss\")\n",
    "plt.xlabel(\"# of Epochs\")\n",
    "plt.title(\"Variation of Training Loss with Epochs(Resizer)\")\n",
    "#plt.savefig(\"training_loss_resizer.png\")"
   ]
  },
  {
   "cell_type": "code",
   "execution_count": null,
   "metadata": {},
   "outputs": [],
   "source": []
  },
  {
   "cell_type": "code",
   "execution_count": 168,
   "metadata": {},
   "outputs": [
    {
     "name": "stdout",
     "output_type": "stream",
     "text": [
      "16\n",
      "6\n"
     ]
    }
   ],
   "source": [
    "print(np.argmin(list(epoch_loss_map.values())))\n",
    "print(np.argmin(validation_losses))"
   ]
  },
  {
   "cell_type": "code",
   "execution_count": 156,
   "metadata": {},
   "outputs": [
    {
     "name": "stdout",
     "output_type": "stream",
     "text": [
      "0.01730454545454545\n",
      "0.0415\n"
     ]
    }
   ],
   "source": [
    "print(min(list(epoch_loss_map.values())) )\n",
    "print(min(list(validation_losses)))"
   ]
  },
  {
   "cell_type": "code",
   "execution_count": 127,
   "metadata": {},
   "outputs": [
    {
     "name": "stdout",
     "output_type": "stream",
     "text": [
      "7\n"
     ]
    }
   ],
   "source": [
    "import numpy as np\n",
    "print(np.argmin(list(epoch_loss_map.values())))"
   ]
  },
  {
   "cell_type": "code",
   "execution_count": null,
   "metadata": {},
   "outputs": [],
   "source": [
    "\n"
   ]
  },
  {
   "cell_type": "code",
   "execution_count": 65,
   "metadata": {},
   "outputs": [
    {
     "name": "stdout",
     "output_type": "stream",
     "text": [
      "12\n"
     ]
    }
   ],
   "source": [
    "print(np.argmin(list(epoch_loss_map.values()) ))"
   ]
  },
  {
   "cell_type": "code",
   "execution_count": 42,
   "metadata": {},
   "outputs": [
    {
     "data": {
      "text/plain": [
       "[0.07157272727272726,\n",
       " 0.05053181818181818,\n",
       " 0.04112727272727272,\n",
       " 0.03578181818181818,\n",
       " 0.033059090909090906,\n",
       " 0.027868181818181816,\n",
       " 0.025172727272727277]"
      ]
     },
     "execution_count": 42,
     "metadata": {},
     "output_type": "execute_result"
    }
   ],
   "source": [
    "list(epoch_loss_map.values())"
   ]
  },
  {
   "cell_type": "code",
   "execution_count": 1004,
   "metadata": {},
   "outputs": [
    {
     "ename": "SyntaxError",
     "evalue": "invalid syntax (<ipython-input-1004-28685ad7022f>, line 1)",
     "output_type": "error",
     "traceback": [
      "\u001b[0;36m  File \u001b[0;32m\"<ipython-input-1004-28685ad7022f>\"\u001b[0;36m, line \u001b[0;32m1\u001b[0m\n\u001b[0;31m    epoch_loss_map.values()[]\u001b[0m\n\u001b[0m                            ^\u001b[0m\n\u001b[0;31mSyntaxError\u001b[0m\u001b[0;31m:\u001b[0m invalid syntax\n"
     ]
    }
   ],
   "source": [
    "epoch_loss_map.values()[]"
   ]
  },
  {
   "cell_type": "code",
   "execution_count": null,
   "metadata": {},
   "outputs": [],
   "source": []
  },
  {
   "cell_type": "code",
   "execution_count": null,
   "metadata": {},
   "outputs": [],
   "source": []
  },
  {
   "cell_type": "code",
   "execution_count": null,
   "metadata": {},
   "outputs": [],
   "source": []
  },
  {
   "cell_type": "code",
   "execution_count": null,
   "metadata": {},
   "outputs": [],
   "source": []
  }
 ],
 "metadata": {
  "kernelspec": {
   "display_name": "Python 3",
   "language": "python",
   "name": "python3"
  },
  "language_info": {
   "codemirror_mode": {
    "name": "ipython",
    "version": 3
   },
   "file_extension": ".py",
   "mimetype": "text/x-python",
   "name": "python",
   "nbconvert_exporter": "python",
   "pygments_lexer": "ipython3",
   "version": "3.8.5"
  }
 },
 "nbformat": 4,
 "nbformat_minor": 4
}
